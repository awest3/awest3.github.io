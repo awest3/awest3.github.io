{
  "cells": [
    {
      "cell_type": "raw",
      "metadata": {},
      "source": [
        "---\n",
        "title: \"About\"\n",
        "image: profile.jpg\n",
        "about:\n",
        "  template: jolla\n",
        "  links:\n",
        "    - icon: linkedin\n",
        "      text: LinkedIn\n",
        "      href: https://www.linkedin.com/in/anton-westveld-ba209010/\n",
        "    - icon: google\n",
        "      text: Scholar\n",
        "      href: https://scholar.google.com/citations?user=6-UcovcAAAAJ&hl=en\n",
        "---"
      ],
      "id": "9719def3"
    },
    {
      "cell_type": "markdown",
      "metadata": {},
      "source": [
        "About this blog\n",
        "\n",
        "\n",
        "```{java}\n",
        "// Initialize and add the map\n",
        "let map;\n",
        "async function initMap(): Promise<void> {\n",
        "  // The location of Uluru\n",
        "  const position = { lat: -25.344, lng: 131.031 };\n",
        "\n",
        "  // Request needed libraries.\n",
        "  //@ts-ignore\n",
        "  const { Map } = await google.maps.importLibrary(\"maps\") as google.maps.MapsLibrary;\n",
        "  const { AdvancedMarkerElement } = await google.maps.importLibrary(\"marker\") as google.maps.MarkerLibrary;\n",
        "\n",
        "  // The map, centered at Uluru\n",
        "  map = new Map(\n",
        "    document.getElementById('map') as HTMLElement,\n",
        "    {\n",
        "      zoom: 4,\n",
        "      center: position,\n",
        "      mapId: 'DEMO_MAP_ID',\n",
        "    }\n",
        "  );\n",
        "\n",
        "  // The marker, positioned at Uluru\n",
        "  const marker = new AdvancedMarkerElement({\n",
        "    map: map,\n",
        "    position: position,\n",
        "    title: 'Uluru'\n",
        "  });\n",
        "}\n",
        "\n",
        "initMap();\n",
        "\n",
        "\n",
        "<script type=\"text/javascript\" id=\"clstr_globe\" src=\"//clustrmaps.com/globe.js?d=NwOcrdRwa90djfkBL61YCDzUCOemzvoQOHdCBe5grwg\"></script>\n",
        "```"
      ],
      "id": "3baae77d"
    }
  ],
  "metadata": {
    "kernelspec": {
      "display_name": "Python 3",
      "language": "python",
      "name": "python3"
    }
  },
  "nbformat": 4,
  "nbformat_minor": 5
}